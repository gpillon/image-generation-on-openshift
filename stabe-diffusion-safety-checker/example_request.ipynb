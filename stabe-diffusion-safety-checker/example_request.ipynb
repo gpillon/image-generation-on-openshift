{
 "cells": [
  {
   "cell_type": "code",
   "execution_count": null,
   "id": "535d8baa",
   "metadata": {},
   "outputs": [],
   "source": [
    "!pip -q install pillow==11.0.0"
   ]
  },
  {
   "cell_type": "code",
   "execution_count": null,
   "id": "35f211ae-0e5a-47f1-b035-4eb2b359d61e",
   "metadata": {},
   "outputs": [],
   "source": [
    "import base64\n",
    "from PIL import Image\n",
    "import requests\n",
    "from io import BytesIO"
   ]
  },
  {
   "cell_type": "markdown",
   "id": "f14ccb1f",
   "metadata": {},
   "source": [
    "### Stable Diffusion Safety Checker Request\n",
    "\n",
    "Before we can send a request to our served model, make sure to set:\n",
    "- The name of the deployed model\n",
    "- The inference endpoint (URL) of the deployed model\n",
    "- Your API key (if any, set as \"\" otherwise)"
   ]
  },
  {
   "cell_type": "code",
   "execution_count": null,
   "id": "9510f521-5272-4fc9-b802-2d01c207e977",
   "metadata": {},
   "outputs": [],
   "source": [
    "deployed_model_name = \"<YOUR-MODEL-NAME>\"\n",
    "infer_endpoint = \"<YOUR-ENDPOINT>\"\n",
    "infer_url = f\"{infer_endpoint}/v2/models/{deployed_model_name}/infer\"\n",
    "\n",
    "API_KEY = \"<YOUR-API-KEY>\""
   ]
  },
  {
   "cell_type": "code",
   "execution_count": null,
   "id": "086ae01d-d4d6-420c-9088-5658fa8fa4c4",
   "metadata": {},
   "outputs": [],
   "source": [
    "def rest_request(data):\n",
    "    json_data = {\n",
    "        \"inputs\": [ \n",
    "           {\n",
    "                \"name\": \"image\",\n",
    "                \"shape\": [1, 1],\n",
    "                \"datatype\": \"String\",\n",
    "                \"data\": [data]\n",
    "            }\n",
    "        ]\n",
    "    }\n",
    "\n",
    "    headers={'Authorization': 'Bearer ' + API_KEY}\n",
    "\n",
    "    response = requests.post(infer_url, json=json_data, headers=headers)\n",
    "    response_dict = response.json()\n",
    "    return response_dict['outputs'][0]['data']"
   ]
  },
  {
   "cell_type": "markdown",
   "id": "ddafe97d",
   "metadata": {},
   "source": [
    "We can now make a request to our model.  \n",
    "We start by loading an image and converting it into a base64 encoded string, and then send that to our endpoint."
   ]
  },
  {
   "cell_type": "code",
   "execution_count": null,
   "id": "fa4bb87f-712c-4b38-b9b0-a1335d5d9224",
   "metadata": {},
   "outputs": [],
   "source": [
    "IMAGE = \"images/green-fedora.png\"\n",
    "\n",
    "image = Image.open(IMAGE).convert(\"RGB\")\n",
    "buffered = BytesIO()\n",
    "image.save(buffered, format=\"PNG\")\n",
    "img_str = base64.b64encode(buffered.getvalue()).decode(\"utf-8\")\n",
    "\n",
    "rest_request(img_str)"
   ]
  }
 ],
 "metadata": {
  "kernelspec": {
   "display_name": "base",
   "language": "python",
   "name": "python3"
  },
  "language_info": {
   "codemirror_mode": {
    "name": "ipython",
    "version": 3
   },
   "file_extension": ".py",
   "mimetype": "text/x-python",
   "name": "python",
   "nbconvert_exporter": "python",
   "pygments_lexer": "ipython3",
   "version": "3.12.7"
  }
 },
 "nbformat": 4,
 "nbformat_minor": 5
}
